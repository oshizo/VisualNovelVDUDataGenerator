{
 "cells": [
  {
   "cell_type": "code",
   "execution_count": 1,
   "metadata": {},
   "outputs": [],
   "source": [
    "import random\n",
    "from colorutils import Color\n",
    "from generation_utils import get_random_color_pair, get_tiled_option_cfgs\n",
    "from configs import CFG1, TextBoxCFG, ImageCFG, Point, Margin\n",
    "from generators import generate_data\n",
    "from PIL import ImageFont\n",
    "from random import randint, choice, uniform\n",
    "from utils import split_sentence\n"
   ]
  },
  {
   "attachments": {},
   "cell_type": "markdown",
   "metadata": {},
   "source": [
    "# データ準備"
   ]
  },
  {
   "cell_type": "code",
   "execution_count": 2,
   "metadata": {},
   "outputs": [
    {
     "data": {
      "text/plain": [
       "((8984, 9), (100, 9), (6480, 5), 976, 354)"
      ]
     },
     "execution_count": 2,
     "metadata": {},
     "output_type": "execute_result"
    }
   ],
   "source": [
    "from pathlib import Path\n",
    "import pandas as pd\n",
    "\n",
    "all_messages = pd.read_csv(\"texts/chatgpt_ruby.csv\")\n",
    "\n",
    "val_idx = random.sample(all_messages.index.values.tolist(), 100)\n",
    "train_idx = [idx for idx in all_messages.index.values if idx not in val_idx]\n",
    "\n",
    "messages = all_messages.loc[train_idx]\n",
    "val_messages = all_messages.loc[val_idx]\n",
    "names = pd.read_csv(\"texts/names.csv\")\n",
    "\n",
    "bgimage_paths = list(Path(\"bgimages\").rglob(pattern=\"*.png\"))\n",
    "fgimage_paths = list(Path(\"fgimages\").rglob(pattern=\"*.png\"))\n",
    "messages.shape, val_messages.shape, names.shape, len(bgimage_paths), len(fgimage_paths)"
   ]
  },
  {
   "cell_type": "code",
   "execution_count": 3,
   "metadata": {},
   "outputs": [
    {
     "data": {
      "text/plain": [
       "(11, 10)"
      ]
     },
     "execution_count": 3,
     "metadata": {},
     "output_type": "execute_result"
    }
   ],
   "source": [
    "import glob\n",
    "message_fonts = glob.glob(\"fonts/fonts_message/*\")\n",
    "ruby_fonts = glob.glob(\"fonts/fonts_ruby/*\")\n",
    "len(message_fonts), len(ruby_fonts)"
   ]
  },
  {
   "attachments": {},
   "cell_type": "markdown",
   "metadata": {},
   "source": [
    "# Patterns"
   ]
  },
  {
   "attachments": {},
   "cell_type": "markdown",
   "metadata": {},
   "source": [
    "## Niji"
   ]
  },
  {
   "cell_type": "code",
   "execution_count": 4,
   "metadata": {},
   "outputs": [],
   "source": [
    "def generate_niji():\n",
    "    cfg = CFG1()\n",
    "\n",
    "    # 名前\n",
    "    n_names = choice([0, 1])\n",
    "    if n_names > 0:\n",
    "        cfg.namebox.text = names.sample(1)[\"text\"].values[0]\n",
    "        cfg.namebox.font = ImageFont.truetype(font=choice(message_fonts), size=60) \n",
    "        cfg.namebox.font_hex = \"#ffffff\"\n",
    "        cfg.namebox.bg_hex = Color(hsv=(uniform(0, 360), 0.7, 0.7)).hex\n",
    "        cfg.namebox.bg_alpha = randint(160, 220)\n",
    "        cfg.namebox.tl = Point(180, 650)\n",
    "        cfg.namebox.br = Point(840, cfg.namebox.tl.y + cfg.namebox.minheight)\n",
    "    else:\n",
    "        cfg.namebox = None\n",
    "\n",
    "    # メッセージ\n",
    "    cfg.msgbox.text = messages.sample(1)[\"text\"].values[0]\n",
    "    cfg.msgbox.font = ImageFont.truetype(font=choice(message_fonts), size=randint(50, 60))\n",
    "    cfg.msgbox.bg_alpha = randint(160, 220)\n",
    "\n",
    "    font_hex, bg_hex = get_random_color_pair(s=0)\n",
    "    cfg.msgbox.font_hex = font_hex\n",
    "    cfg.msgbox.bg_hex = bg_hex\n",
    "\n",
    "    cfg.msgbox.margin = Margin(top=80, right=200, left=200, bottom=10)\n",
    "    cfg.msgbox.tl = Point(60, 700)\n",
    "    cfg.msgbox.br = Point(1920-60, 990)\n",
    "\n",
    "\n",
    "    # 背景画像\n",
    "    cfg.bg_cfg = ImageCFG(path=choice(bgimage_paths))\n",
    "\n",
    "    # キャラクター画像\n",
    "    n_fg_images = choice([0, 1, 2])\n",
    "    cfg.character_cfg_list = [\n",
    "        ImageCFG(path=choice(fgimage_paths), tl=Point(int((cfg.W // (1+n_fg_images))*(i+0.5)), 0))\n",
    "        for i in range(n_fg_images)]\n",
    "    \n",
    "    # 選択肢\n",
    "    optionbox_list = []\n",
    "    nrow = choice([0, 1, 2, 3, 4])\n",
    "    ncol = choice([0, 1, 2])\n",
    "\n",
    "    for _ in range(max(0, choice([nrow*ncol, nrow*ncol-1]))):\n",
    "        option_text = split_sentence(messages.sample(1)[\"text\"].values[0])[0]\n",
    "        option_cfg = TextBoxCFG()\n",
    "        option_cfg.text = option_text\n",
    "        option_cfg.bg_alpha = randint(180, 255)\n",
    "        option_cfg.tl = Point(270, 200)\n",
    "        option_cfg.br = Point(1660, 600)\n",
    "        option_cfg.font_hex = Color(hsv=(uniform(0, 360), uniform(0.6, 0.8), 1)).hex\n",
    "        optionbox_list.append(option_cfg)\n",
    "    \n",
    "    # タイルレイアウト\n",
    "    if len(optionbox_list) > 0:\n",
    "        cfg.optionbox_list = get_tiled_option_cfgs(\n",
    "            nrow=nrow, ncol=ncol, tl=Point(x=270, y=100), br=Point(x=1660, y=600), cfgs=optionbox_list\n",
    "            )\n",
    "\n",
    "    output = generate_data(cfg)\n",
    "    gt_obj = {\"gt_parse\":output.to_gt_parse()}\n",
    "    return output.image, gt_obj"
   ]
  },
  {
   "cell_type": "markdown",
   "metadata": {},
   "source": [
    "## FGO"
   ]
  },
  {
   "cell_type": "code",
   "execution_count": 5,
   "metadata": {},
   "outputs": [],
   "source": [
    "def generate_fgo():\n",
    "    cfg = CFG1()\n",
    "\n",
    "    # 名前\n",
    "    n_names = choice([0, 1])\n",
    "    if n_names > 0:\n",
    "        cfg.namebox.text = names.sample(1)[choice([\"text\", \"text_ruby_hiragana\", \"text_ruby_katakana\"])].values[0]\n",
    "        cfg.namebox.font = ImageFont.truetype(font=choice(message_fonts), size=60) \n",
    "        cfg.namebox.font_hex = Color(hsv=(0, 0, uniform(0.85, 1.0))).hex\n",
    "        cfg.namebox.bg_hex = Color(hsv=(uniform(180, 220), uniform(0.75, 1.0), uniform(0.6, 0.8))).hex\n",
    "        cfg.namebox.bg_alpha = randint(180, 220)\n",
    "        cfg.namebox.tl = Point(170, 700)\n",
    "        cfg.namebox.br = Point(830, cfg.namebox.tl.y + cfg.namebox.minheight)\n",
    "    else:\n",
    "        cfg.namebox = None\n",
    "\n",
    "    # メッセージ\n",
    "    cfg.msgbox.text = messages.sample(1)[choice([\"text\", \"text_ruby_hiragana\", \"text_ruby_katakana\"])].values[0]\n",
    "    cfg.msgbox.font = ImageFont.truetype(font=choice(message_fonts), size=randint(50, 60))\n",
    "    cfg.msgbox.bg_alpha = randint(180, 220)\n",
    "    cfg.msgbox.font_hex = Color(hsv=(0, 0, uniform(0.85, 1.0))).hex\n",
    "    cfg.msgbox.bg_hex = Color(hsv=(uniform(190, 230), uniform(0.75, 1.0), uniform(0.15, 0.35))).hex\n",
    "\n",
    "    cfg.msgbox.margin = Margin(top=45, right=90, left=90, bottom=10)\n",
    "    cfg.msgbox.tl = Point(190, 790)\n",
    "    cfg.msgbox.br = Point(1920-190, 1060)\n",
    "\n",
    "    # 背景画像\n",
    "    cfg.bg_cfg = ImageCFG(path=choice(bgimage_paths))\n",
    "\n",
    "    # キャラクター画像\n",
    "    n_fg_images = choice([0, 1, 2])\n",
    "    cfg.character_cfg_list = [\n",
    "        ImageCFG(path=choice(fgimage_paths), tl=Point(int((cfg.W // (1+n_fg_images))*(i+0.5)), 0))\n",
    "        for i in range(n_fg_images)]\n",
    "    \n",
    "    # 選択肢\n",
    "    optionbox_list = []\n",
    "    nrow = choice([1, 2, 3])\n",
    "    ncol = choice([0, 1])\n",
    "\n",
    "    for _ in range(nrow*ncol):\n",
    "        option_text = split_sentence(messages.sample(1)[choice([\"text\", \"text_ruby_hiragana\", \"text_ruby_katakana\"])].values[0])[0]\n",
    "        option_cfg = TextBoxCFG()\n",
    "        option_cfg.text = option_text\n",
    "        option_cfg.bg_alpha = randint(220, 255)\n",
    "        option_cfg.tl = Point(350, 0)\n",
    "        option_cfg.br = Point(1550, option_cfg.minheight*3)\n",
    "        option_cfg.font_hex = Color(hsv=(0, 0, uniform(0.85, 1.0))).hex\n",
    "        option_cfg.font = ImageFont.truetype(font=choice(message_fonts), size=randint(45, 55))\n",
    "        option_cfg.ruby_font = ImageFont.truetype(font=choice(ruby_fonts), size=randint(12, 18))\n",
    "        option_cfg.bg_hex = Color(hsv=(0, 0, uniform(0.0, 0.15))).hex\n",
    "        optionbox_list.append(option_cfg)\n",
    "    \n",
    "    # タイルレイアウト\n",
    "    if len(optionbox_list) > 0:\n",
    "        fit_font = choice([True, False, False])\n",
    "        cfg.optionbox_list = get_tiled_option_cfgs(\n",
    "            nrow=nrow, ncol=ncol,\n",
    "            tl=Point(x=randint(300, 400), y=randint(80, 160)),\n",
    "            br=Point(x=randint(1520, 1620), y=randint(600, 700)),\n",
    "            cfgs=optionbox_list,\n",
    "            fit_font=fit_font,\n",
    "            nowrap=not fit_font\n",
    "            )\n",
    "\n",
    "    output = generate_data(cfg)\n",
    "    gt_obj = {\"gt_parse\":output.to_gt_parse()}\n",
    "    return output.image, gt_obj"
   ]
  },
  {
   "attachments": {},
   "cell_type": "markdown",
   "metadata": {},
   "source": [
    "## Random1\n",
    "名前box左上パターン"
   ]
  },
  {
   "cell_type": "code",
   "execution_count": 6,
   "metadata": {},
   "outputs": [],
   "source": [
    "def generate_random1():\n",
    "    cfg = CFG1()\n",
    "\n",
    "    # 名前\n",
    "    n_names = choice([0, 1])\n",
    "    if n_names > 0:\n",
    "        cfg.namebox.text = names.sample(1)[choice([\"text\", \"text_ruby_hiragana\", \"text_ruby_katakana\"])].values[0]\n",
    "        cfg.namebox.font = ImageFont.truetype(font=choice(message_fonts), size=randint(45, 60))\n",
    "        font_hex, bg_hex = get_random_color_pair()\n",
    "        cfg.namebox.font_hex = font_hex\n",
    "        cfg.namebox.bg_hex = bg_hex\n",
    "        cfg.namebox.centering = choice([True, False])\n",
    "        cfg.namebox.bg_alpha = randint(180, 220)\n",
    "        cfg.namebox.tl = Point(choice([randint(50, 200), randint(740, 810)]), randint(500, 700))\n",
    "        cfg.namebox.br = Point(\n",
    "            cfg.namebox.tl.x + randint(300, 500),\n",
    "            cfg.namebox.tl.y + cfg.namebox.minheight + randint(0, 20)\n",
    "            )\n",
    "    else:\n",
    "        cfg.namebox = None\n",
    "\n",
    "    # メッセージ\n",
    "    n_messages = choice([0, 1, 1, 1, 1, 1, 1, 1])\n",
    "    if n_messages > 0:\n",
    "\n",
    "        cfg.msgbox.text = messages.sample(1)[choice([\"text\", \"text_ruby_hiragana\", \"text_ruby_katakana\"])].values[0]\n",
    "        cfg.msgbox.font = ImageFont.truetype(font=choice(message_fonts), size=randint(45, choice([60, 60, 60, 80])))\n",
    "        cfg.msgbox.bg_alpha = randint(180, 220)\n",
    "        font_hex, bg_hex = get_random_color_pair()\n",
    "        cfg.msgbox.font_hex = font_hex\n",
    "        cfg.msgbox.bg_hex = bg_hex\n",
    "        cfg.msgbox.centering = choice([True, False])\n",
    "        cfg.msgbox.margin = Margin(top=randint(10, 50), right=randint(20, 100), left=randint(30, 100), bottom=10)\n",
    "        cfg.msgbox.tl = Point(randint(50, 400), randint(600, 800) if cfg.namebox is None else cfg.namebox.br.y + randint(-20, 50))\n",
    "        cfg.msgbox.br = Point(randint(1520, 1870), randint(cfg.msgbox.tl.y + cfg.msgbox.minheight, 1060))\n",
    "    else:\n",
    "        cfg.msgbox = None\n",
    "\n",
    "    # 背景画像\n",
    "    cfg.bg_cfg = ImageCFG(path=choice(bgimage_paths))\n",
    "\n",
    "    # キャラクター画像\n",
    "    n_fg_images = choice([0, 1, 2])\n",
    "    cfg.character_cfg_list = [\n",
    "        ImageCFG(path=choice(fgimage_paths), tl=Point(int((cfg.W // (1+n_fg_images))*(i+0.5)), 0))\n",
    "        for i in range(n_fg_images)]\n",
    "    \n",
    "    # 選択肢\n",
    "    optionbox_list = []\n",
    "    nrow = choice([1, 2, 2, 3, 3, 4])\n",
    "    ncol = choice([0, 1, 1, 1, 2])\n",
    "\n",
    "    font_hex, bg_hex = get_random_color_pair()\n",
    "    colorful_option_box = choice([True, False])\n",
    "    centering_option_box = choice([True, False])\n",
    "    for _ in range(nrow*ncol):\n",
    "        option_text = split_sentence(messages.sample(1)[choice([\"text\", \"text_ruby_hiragana\", \"text_ruby_katakana\"])].values[0])[0]\n",
    "        option_cfg = TextBoxCFG()\n",
    "        option_cfg.text = option_text\n",
    "        option_cfg.bg_alpha = randint(180, 220)\n",
    "        if colorful_option_box:\n",
    "            font_hex, bg_hex = get_random_color_pair()\n",
    "        option_cfg.centering = centering_option_box\n",
    "        option_cfg.font_hex = font_hex\n",
    "        option_cfg.bg_hex = bg_hex\n",
    "        option_cfg.tl = Point(randint(50, 300), 0)\n",
    "        option_cfg.br = Point(randint(1620, 1870), option_cfg.minheight*3)\n",
    "        option_cfg.font = ImageFont.truetype(font=choice(message_fonts), size=randint(45, 55))\n",
    "        option_cfg.ruby_font = ImageFont.truetype(font=choice(ruby_fonts), size=randint(12, 18))\n",
    "        option_cfg.margin = Margin(\n",
    "            top=randint(10, 20), right=randint(10, 50), left=randint(20, 50), bottom=5)\n",
    "        optionbox_list.append(option_cfg)\n",
    "    \n",
    "    # タイルレイアウト\n",
    "    if len(optionbox_list) > 0:\n",
    "        bottomy = cfg.namebox.tl.y if cfg.namebox is not None else cfg.msgbox.tl.y if cfg.msgbox is not None else 1080\n",
    "        fit_font = choice([True, False, False])\n",
    "        cfg.optionbox_list = get_tiled_option_cfgs(\n",
    "            nrow=nrow, ncol=ncol,\n",
    "            tl = Point(randint(50, 300), randint(10, 20 if nrow > 2 else 200)),\n",
    "            br = Point(randint(1620, 1870), bottomy - randint(10, 20 if nrow > 2 else 200)),\n",
    "            cfgs=optionbox_list,\n",
    "            fit_font=fit_font,\n",
    "            nowrap=not fit_font\n",
    "            )\n",
    "\n",
    "    output = generate_data(cfg)\n",
    "    gt_obj = {\"gt_parse\":output.to_gt_parse()}\n",
    "    return output.image, gt_obj"
   ]
  },
  {
   "attachments": {},
   "cell_type": "markdown",
   "metadata": {},
   "source": [
    "# 実行"
   ]
  },
  {
   "cell_type": "code",
   "execution_count": 7,
   "metadata": {},
   "outputs": [
    {
     "name": "stderr",
     "output_type": "stream",
     "text": [
      "100%|██████████| 100/100 [01:52<00:00,  1.13s/it]\n"
     ]
    }
   ],
   "source": [
    "import json\n",
    "import datasets\n",
    "from datasets import Dataset\n",
    "images, gts = [], []\n",
    "from tqdm import tqdm\n",
    "for i in tqdm(range(1, 101)):\n",
    "    try:\n",
    "        # image, gt = generate_niji()\n",
    "        # image, gt = generate_fgo()\n",
    "        image, gt = generate_random1()\n",
    "        output_image_path = f\"output_images/{i:05d}.png\"\n",
    "        # display(gt, image)\n",
    "        image.save(output_image_path)\n",
    "        images.append(output_image_path)\n",
    "        gts.append(gt)\n",
    "    except Exception as e:\n",
    "        print(i, e)\n",
    "        raise\n",
    "\n",
    "    # if len(images) == 200:\n",
    "    #     df = pd.DataFrame([[img, json.dumps(gt, ensure_ascii=False)] for img, gt in zip(images, gts)], columns=[\"image\", \"ground_truth\"])\n",
    "    #     ds = Dataset.from_pandas(df)\n",
    "    #     ds = ds.cast_column(\"image\", datasets.Image())\n",
    "    #     ds.save_to_disk(f\"output_datasets/dataset_{i}\")\n",
    "    #     images, gts = [], []"
   ]
  },
  {
   "cell_type": "code",
   "execution_count": 16,
   "metadata": {},
   "outputs": [
    {
     "data": {
      "application/vnd.jupyter.widget-view+json": {
       "model_id": "ff108f52b4934f72899fadfbdd85d8bb",
       "version_major": 2,
       "version_minor": 0
      },
      "text/plain": [
       "Saving the dataset (0/9 shards):   0%|          | 0/2000 [00:00<?, ? examples/s]"
      ]
     },
     "metadata": {},
     "output_type": "display_data"
    }
   ],
   "source": [
    "dss = []\n",
    "for i in range(200, 2001, 200):\n",
    "    dss.append(datasets.load_from_disk(f\"output_datasets/dataset_{i}\"))\n",
    "ds = datasets.concatenate_datasets(dss)\n",
    "ds.save_to_disk(\"output_datasets/dataset_fgo\")"
   ]
  },
  {
   "cell_type": "code",
   "execution_count": 59,
   "metadata": {},
   "outputs": [],
   "source": [
    "# ds = datasets.load_from_disk(\"./output_datasets/dataset_niji_val/\")\n",
    "# ds[7]"
   ]
  },
  {
   "cell_type": "code",
   "execution_count": null,
   "metadata": {},
   "outputs": [],
   "source": []
  },
  {
   "attachments": {},
   "cell_type": "markdown",
   "metadata": {},
   "source": [
    "# OLD"
   ]
  },
  {
   "attachments": {},
   "cell_type": "markdown",
   "metadata": {},
   "source": [
    "# Random(OLD)"
   ]
  },
  {
   "cell_type": "code",
   "execution_count": null,
   "metadata": {},
   "outputs": [],
   "source": [
    "\n",
    "def generate_random():\n",
    "    cfg = CFG1()\n",
    "\n",
    "    # 名前\n",
    "    if random.random() < .75:\n",
    "        name, name_ruby_hira, name_ruby_kata = names.sample(1)[[\"text\", \"text_ruby_hiragana\", \"text_ruby_katakana\"]].values[0]\n",
    "        cfg.name_text = choice([name, name_ruby_hira, name_ruby_kata])\n",
    "        cfg.name_font_path = choice(message_fonts)\n",
    "        cfg.name_font_color, cfg.namebox_hex = get_random_color_pair()\n",
    "        cfg.namebox_alpha = randint(80, 255)\n",
    "    minheight = cfg.namebox_minheight()\n",
    "    is_namebox_above = random.random() < 0.5  # nameboxをmsgboxの上に配置するか下に配置するか\n",
    "    cfg.namebox_tl = (\n",
    "        choice([randint(10, 100), randint(540, 700)]),\n",
    "        randint(600, 750) if is_namebox_above else randint(1080-(minheight+100), 1080-(minheight+10))\n",
    "        )\n",
    "    cfg.namebox_br = (cfg.namebox_tl[0] + randint(400, 800), cfg.namebox_tl[1] + randint(minheight, minheight+10))\n",
    "\n",
    "    # メッセージ\n",
    "    text, text_ruby_hira, text_ruby_kata = messages.sample(1)[[\"text\", \"text_ruby_hiragana\", \"text_ruby_katakana\"]].values[0]\n",
    "    cfg.text = choice([text, text_ruby_hira, text_ruby_kata])\n",
    "    cfg.msg_font_path = choice(message_fonts)\n",
    "    cfg.msg_font_color, cfg.msgbox_hex = get_random_color_pair()\n",
    "    cfg.msgbox_alpha = randint(160, 255)\n",
    "    cfg.msg_font_size = randint(36, 55)\n",
    "    cfg.msg_ruby_font_size = randint(16, 24)\n",
    "    cfg.msgbox_tl = (\n",
    "        randint(20, 300),\n",
    "        randint(cfg.namebox_br[1]-cfg.msg_margin.top, cfg.namebox_br[1]-cfg.msg_margin.top+50) if is_namebox_above else randint(540, 700)\n",
    "        )\n",
    "    cfg.msgbox_br = (\n",
    "        randint(1600, 1880),\n",
    "        randint(1000, 1055) if is_namebox_above else randint(cfg.namebox_tl[1]-30, cfg.namebox_tl[1]+10)\n",
    "    )\n",
    "    # 選択肢\n",
    "    n_options = random.choice([0, 0, 0, 0, 0, 1, 1, 1, 2, 2])\n",
    "    optionbox_centor = randint(800, 1100)\n",
    "    optionbox_halfwidth = randint(500, 700)\n",
    "    optionbox_height = randint(cfg.optionbox_minheight(), cfg.optionbox_minheight()+10)\n",
    "    optionbox_top = randint(120, 250)\n",
    "    cfg.optionbox_tl_list = [\n",
    "        (optionbox_centor-optionbox_halfwidth, optionbox_top),\n",
    "        (optionbox_centor-optionbox_halfwidth, optionbox_top + optionbox_height+ randint(10, 50))\n",
    "    ]\n",
    "    cfg.optionbox_br_list = [\n",
    "        (optionbox_centor+optionbox_halfwidth, cfg.optionbox_tl_list[0][1]+optionbox_height),\n",
    "        (optionbox_centor+optionbox_halfwidth, cfg.optionbox_tl_list[1][1]+optionbox_height)\n",
    "    ]\n",
    "    if n_options == 1:\n",
    "        cfg.optionbox_tl_list = [(optionbox_centor-optionbox_halfwidth, (cfg.optionbox_tl_list[0][1]+cfg.optionbox_tl_list[1][1])//2)]\n",
    "        cfg.optionbox_br_list = [(optionbox_centor+optionbox_halfwidth, (cfg.optionbox_br_list[0][1]+cfg.optionbox_br_list[1][1])//2)]\n",
    "    elif n_options == 0:\n",
    "        cfg.optionbox_tl_list = []\n",
    "        cfg.optionbox_br_list = []\n",
    "    option_texts = []\n",
    "    for _ in range(n_options):\n",
    "        op_text, op_text_ruby_hira, op_text_ruby_kata = messages.sample(1)[[\"text\", \"text_ruby_hiragana\", \"text_ruby_katakana\"]].values[0]\n",
    "        op_target_text = random.choice([op_text, op_text_ruby_hira, op_text_ruby_kata])\n",
    "        op_target_text = random.choice(split_sentence(op_target_text)) # messagesのtextから選択肢には1文だけ取り出して使う\n",
    "        option_texts.append(op_target_text)\n",
    "    cfg.option_texts = option_texts\n",
    "    cfg.option_font_path = random.choice(message_fonts)\n",
    "    cfg.option_ruby_font_path = random.choice(ruby_fonts)\n",
    "    cfg.option_font_color, cfg.optionbox_hex = get_random_color_pair()\n",
    "    cfg.optionbox_alpha = random.randint(160, 255)\n",
    "    cfg.option_font_size = random.randint(36, 60)\n",
    "    cfg.option_ruby_font_size = random.randint(16, 24)\n",
    "\n",
    "    # 背景画像\n",
    "    bg_path = random.choice(bgimage_paths)\n",
    "    cfg.bg_path = bg_path\n",
    "\n",
    "    # 人物などの画像\n",
    "    n_fg_images = random.choice([0, 1, 2])\n",
    "    if n_fg_images == 1:\n",
    "        cfg.fg_tl_list = [(500, 100)]\n",
    "    elif n_fg_images == 2:\n",
    "        cfg.fg_tl_list = [(200, 100), (1000, 100)]\n",
    "\n",
    "    cfg.fg_pathlist = random.sample(fgimage_paths, n_fg_images)\n",
    "\n",
    "    output = create_image(cfg)\n",
    "    gt_obj = {\n",
    "        \"gt_parse\":{\"messages\":[output.text], \"names\":[output.name_text], \"options\":output.option_texts},\n",
    "        \"meta\":{\"version\":\"0.1.0\", \"split\":\"train\", \"image_size\":{\"width\":cfg.W, \"height\":cfg.H}}\n",
    "        }\n",
    "    return output.image, gt_obj"
   ]
  },
  {
   "cell_type": "code",
   "execution_count": null,
   "metadata": {},
   "outputs": [],
   "source": []
  }
 ],
 "metadata": {
  "kernelspec": {
   "display_name": "venv",
   "language": "python",
   "name": "python3"
  },
  "language_info": {
   "codemirror_mode": {
    "name": "ipython",
    "version": 3
   },
   "file_extension": ".py",
   "mimetype": "text/x-python",
   "name": "python",
   "nbconvert_exporter": "python",
   "pygments_lexer": "ipython3",
   "version": "3.9.12"
  },
  "orig_nbformat": 4
 },
 "nbformat": 4,
 "nbformat_minor": 2
}
